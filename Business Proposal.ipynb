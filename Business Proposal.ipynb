{
 "cells": [
  {
   "cell_type": "markdown",
   "metadata": {
    "collapsed": true
   },
   "source": [
    "<H1>The Battle of Neighborhoods : Business Proposal</H1>\n",
    "\n",
    "<h4>Introduction</h4>\n",
    "\n",
    "The purpose of this Project is to help people to exploring better facilities around their neighborhood community. \n",
    "\n",
    "Lots of people are shifting to various part of Canada and needed lots of time to search for better housing and reputated neighbourhood schools. Easy access to Barista, Schools, Hyper market, Pharmacy, Clinics, Shopping malls, hospital,etc.\n",
    "\n",
    "We are creating an analysis report for a people who are shifted to Calgary, Canada for a comparative analysis between neighborhoods. \n",
    "\n",
    "This analysis includes housing price and neighbourhood school based on the ratings, road connectivity, weather conditions,emergency stuffs like water resources, etc.\n",
    "\n",
    "<h4>Problem Statement</h4>\n",
    "\n",
    "The objective, is to suggest a better neighborhood in a new city for the person who are shiffting over there.\n",
    "\n",
    "=> Housing prices\n",
    "\n",
    "=> Schools based on location, fees, and their ratings.\n",
    "\n",
    "<h4>Location Details</h4>\n",
    "\n",
    "North York is a popular destination in Canada. It is one of the most diverse and multicultural areas in Alberta city with numerous skyscrapers, owes its rapid growth to its status as the centre of Canada’s oil industry.\n",
    "\n",
    "<h4>Foursquare API</h4>\n",
    "\n",
    "Four-square Foursquare is the most trusted, independent location data platform for understanding how people move through the real world. It has a data warehouse  of millions location specific content. Places API use  perform location search details.\n",
    "\n",
    "<h4>API Usage </h4>\n",
    "\n",
    "Using the Application setting of Foursquare API can get a near-by location details and neighourhood community.\n",
    "\n",
    "<h4>ML Algo for Clustering and Segmentation </h4>\n",
    "\n",
    "To explore the neighborhoods into a group and then make a clusters of information to find similar neighborhoods in a North York. We are using a unsupervised machine learning algorithm called k-means clustering.\n",
    "\n",
    "<h4>Python Framework and Libaries</h4>\n",
    "\n",
    "Pandas: For creating and manipulating dataframes.\n",
    "\n",
    "Folium: Python visualization library would be used to visualize the neighborhoods cluster distributions in leaflet maps.\n",
    "\n",
    "Scikit Learn: For importing k-means clustering.\n",
    "\n",
    "Geocoder: To retrieve Location Data.\n",
    "\n",
    "Beautiful Soup and Requests: To scrap and library to handle http requests.\n",
    "\n",
    "Matplotlib: Python Plotting Module."
   ]
  },
  {
   "cell_type": "code",
   "execution_count": null,
   "metadata": {},
   "outputs": [],
   "source": []
  }
 ],
 "metadata": {
  "kernelspec": {
   "display_name": "Python 3.6",
   "language": "python",
   "name": "python3"
  },
  "language_info": {
   "codemirror_mode": {
    "name": "ipython",
    "version": 3
   },
   "file_extension": ".py",
   "mimetype": "text/x-python",
   "name": "python",
   "nbconvert_exporter": "python",
   "pygments_lexer": "ipython3",
   "version": "3.6.9"
  }
 },
 "nbformat": 4,
 "nbformat_minor": 1
}
